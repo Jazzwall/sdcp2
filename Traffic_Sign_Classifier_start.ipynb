{
 "cells": [
  {
   "cell_type": "markdown",
   "metadata": {},
   "source": [
    "# Self-Driving Car Engineer Nanodegree\n",
    "\n",
    "## Deep Learning\n",
    "\n",
    "## Project: Build a Traffic Sign Recognition Classifier\n",
    "\n",
    "In this notebook, a template is provided for you to implement your functionality in stages which is required to successfully complete this project. If additional code is required that cannot be included in the notebook, be sure that the Python code is successfully imported and included in your submission, if necessary. Sections that begin with **'Implementation'** in the header indicate where you should begin your implementation for your project. Note that some sections of implementation are optional, and will be marked with **'Optional'** in the header.\n",
    "\n",
    "In addition to implementing code, there will be questions that you must answer which relate to the project and your implementation. Each section where you will answer a question is preceded by a **'Question'** header. Carefully read each question and provide thorough answers in the following text boxes that begin with **'Answer:'**. Your project submission will be evaluated based on your answers to each of the questions and the implementation you provide.\n",
    "\n",
    ">**Note:** Code and Markdown cells can be executed using the **Shift + Enter** keyboard shortcut. In addition, Markdown cells can be edited by typically double-clicking the cell to enter edit mode."
   ]
  },
  {
   "cell_type": "markdown",
   "metadata": {},
   "source": [
    "---\n",
    "## Step 0: Load The Data"
   ]
  },
  {
   "cell_type": "code",
   "execution_count": null,
   "metadata": {
    "collapsed": true
   },
   "outputs": [],
   "source": [
    "##########################\n",
    "# To do:\n",
    "#\n",
    "# Split into validate chunks for cross validation\n",
    "# Augment the data\n",
    "# Visualize the weights\n",
    "# (Figure out why setting the seed does not make determinate results.)\n",
    "# Tweak hyperparameters to improve score.\n",
    "##########################"
   ]
  },
  {
   "cell_type": "code",
   "execution_count": 32,
   "metadata": {
    "collapsed": false
   },
   "outputs": [
    {
     "name": "stdout",
     "output_type": "stream",
     "text": [
      "Done\n"
     ]
    }
   ],
   "source": [
    "import tensorflow as tf\n",
    "print (\"Done\")\n",
    "seed = 42"
   ]
  },
  {
   "cell_type": "code",
   "execution_count": 33,
   "metadata": {
    "collapsed": false
   },
   "outputs": [
    {
     "name": "stdout",
     "output_type": "stream",
     "text": [
      "Files loaded.\n",
      "\n",
      "Image Shape: (32, 32, 3)\n",
      "\n",
      "Training Set:   39209 samples\n",
      "Test Set:       12630 samples\n"
     ]
    }
   ],
   "source": [
    "# Load pickled data\n",
    "import pickle\n",
    "\n",
    "# TODO: Fill this in based on where you saved the training and testing data\n",
    "\n",
    "training_file = \"./train.p\"\n",
    "testing_file = \"./test.p\"\n",
    "\n",
    "with open(training_file, mode='rb') as f:\n",
    "    train = pickle.load(f)\n",
    "with open(testing_file, mode='rb') as f:\n",
    "    test = pickle.load(f)\n",
    "    \n",
    "X_train, y_train = train['features'], train['labels']\n",
    "X_test, y_test = test['features'], test['labels']\n",
    "\n",
    "print(\"Files loaded.\")\n",
    "\n",
    "assert(len(X_train) == len(y_train))\n",
    "assert(len(X_test) == len(y_test))\n",
    "\n",
    "print()\n",
    "print(\"Image Shape: {}\".format(X_train[0].shape))\n",
    "print()\n",
    "print(\"Training Set:   {} samples\".format(len(X_train)))\n",
    "print(\"Test Set:       {} samples\".format(len(X_test)))"
   ]
  },
  {
   "cell_type": "markdown",
   "metadata": {},
   "source": [
    "---\n",
    "\n",
    "## Step 1: Dataset Summary & Exploration\n",
    "\n",
    "The pickled data is a dictionary with 4 key/value pairs:\n",
    "\n",
    "- `'features'` is a 4D array containing raw pixel data of the traffic sign images, (num examples, width, height, channels).\n",
    "- `'labels'` is a 1D array containing the label/class id of the traffic sign. The file `signnames.csv` contains id -> name mappings for each id.\n",
    "- `'sizes'` is a list containing tuples, (width, height) representing the the original width and height the image.\n",
    "- `'coords'` is a list containing tuples, (x1, y1, x2, y2) representing coordinates of a bounding box around the sign in the image. **THESE COORDINATES ASSUME THE ORIGINAL IMAGE. THE PICKLED DATA CONTAINS RESIZED VERSIONS (32 by 32) OF THESE IMAGES**\n",
    "\n",
    "Complete the basic data summary below."
   ]
  },
  {
   "cell_type": "code",
   "execution_count": 34,
   "metadata": {
    "collapsed": false
   },
   "outputs": [
    {
     "name": "stdout",
     "output_type": "stream",
     "text": [
      "Number of training examples = 39209\n",
      "Number of testing examples = 12630\n",
      "Image data shape = (32, 32, 3)\n",
      "Number of classes = 43\n"
     ]
    }
   ],
   "source": [
    "### Replace each question mark with the appropriate value.\n",
    "\n",
    "# TODO: Number of training examples\n",
    "n_train = X_train.shape[0]\n",
    "\n",
    "# TODO: Number of testing examples.\n",
    "n_test = X_test.shape[0]\n",
    "\n",
    "# TODO: What's the shape of each traffic sign image?\n",
    "image_shape = X_train[0].shape\n",
    "\n",
    "# TODO: How many unique classes/labels there are in the dataset.\n",
    "n_classes = 43\n",
    "\n",
    "print(\"Number of training examples =\", n_train)\n",
    "print(\"Number of testing examples =\", n_test)\n",
    "print(\"Image data shape =\", image_shape)\n",
    "print(\"Number of classes =\", n_classes)"
   ]
  },
  {
   "cell_type": "markdown",
   "metadata": {},
   "source": [
    "Visualize the German Traffic Signs Dataset using the pickled file(s). This is open ended, suggestions include: plotting traffic sign images, plotting the count of each sign, etc.\n",
    "\n",
    "The [Matplotlib](http://matplotlib.org/) [examples](http://matplotlib.org/examples/index.html) and [gallery](http://matplotlib.org/gallery.html) pages are a great resource for doing visualizations in Python.\n",
    "\n",
    "**NOTE:** It's recommended you start with something simple first. If you wish to do more, come back to it after you've completed the rest of the sections."
   ]
  },
  {
   "cell_type": "code",
   "execution_count": 37,
   "metadata": {
    "collapsed": false
   },
   "outputs": [
    {
     "name": "stdout",
     "output_type": "stream",
     "text": [
      "Done\n"
     ]
    }
   ],
   "source": [
    "### Data exploration visualization goes here.\n",
    "### Feel free to use as many code cells as needed.\n",
    "import matplotlib.pyplot as plt\n",
    "# import cv2\n",
    "\n",
    "# Visualizations will be shown in the notebook.\n",
    "%matplotlib inline\n",
    "\n",
    "# Make this a function so it can more easily be commented in and out\n",
    "def print_sample(X_train, y_train):\n",
    "    for i in range(20):\n",
    "        print(y_train[i*30*7])\n",
    "        plt.figure(figsize=(1,1))\n",
    "        plt.imshow(X_train[i*30*7])\n",
    "\n",
    "# print_sample(X_train, y_train)\n",
    "\n",
    "print (\"Done\")"
   ]
  },
  {
   "cell_type": "markdown",
   "metadata": {},
   "source": [
    "----\n",
    "\n",
    "## Step 2: Design and Test a Model Architecture\n",
    "\n",
    "Design and implement a deep learning model that learns to recognize traffic signs. Train and test your model on the [German Traffic Sign Dataset](http://benchmark.ini.rub.de/?section=gtsrb&subsection=dataset).\n",
    "\n",
    "There are various aspects to consider when thinking about this problem:\n",
    "\n",
    "- Neural network architecture\n",
    "- Play around preprocessing techniques (normalization, rgb to grayscale, etc)\n",
    "- Number of examples per label (some have more than others).\n",
    "- Generate fake data.\n",
    "\n",
    "Here is an example of a [published baseline model on this problem](http://yann.lecun.com/exdb/publis/pdf/sermanet-ijcnn-11.pdf). It's not required to be familiar with the approach used in the paper but, it's good practice to try to read papers like these.\n",
    "\n",
    "**NOTE:** The LeNet-5 implementation shown in the [classroom](https://classroom.udacity.com/nanodegrees/nd013/parts/fbf77062-5703-404e-b60c-95b78b2f3f9e/modules/6df7ae49-c61c-4bb2-a23e-6527e69209ec/lessons/601ae704-1035-4287-8b11-e2c2716217ad/concepts/d4aca031-508f-4e0b-b493-e7b706120f81) at the end of the CNN lesson is a solid starting point. You'll have to change the number of classes and possibly the preprocessing, but aside from that it's plug and play!"
   ]
  },
  {
   "cell_type": "markdown",
   "metadata": {},
   "source": [
    "### Implementation\n",
    "\n",
    "Use the code cell (or multiple code cells, if necessary) to implement the first step of your project. Once you have completed your implementation and are satisfied with the results, be sure to thoroughly answer the questions that follow."
   ]
  },
  {
   "cell_type": "code",
   "execution_count": 38,
   "metadata": {
    "collapsed": false
   },
   "outputs": [],
   "source": [
    "### Preprocess the data here.\n",
    "### Feel free to use as many code cells as needed.\n",
    "from sklearn.utils import shuffle\n",
    "\n",
    "X_train, y_train = shuffle(X_train, y_train, random_state = seed)"
   ]
  },
  {
   "cell_type": "markdown",
   "metadata": {},
   "source": [
    "### Question 1 \n",
    "\n",
    "_Describe how you preprocessed the data. Why did you choose that technique?_"
   ]
  },
  {
   "cell_type": "markdown",
   "metadata": {},
   "source": [
    "**Answer:**"
   ]
  },
  {
   "cell_type": "code",
   "execution_count": 39,
   "metadata": {
    "collapsed": true
   },
   "outputs": [],
   "source": [
    "### Generate additional data (OPTIONAL!)\n",
    "### and split the data into training/validation/testing sets here.\n",
    "### Feel free to use as many code cells as needed."
   ]
  },
  {
   "cell_type": "markdown",
   "metadata": {},
   "source": [
    "### Question 2\n",
    "\n",
    "_Describe how you set up the training, validation and testing data for your model. **Optional**: If you generated additional data, how did you generate the data? Why did you generate the data? What are the differences in the new dataset (with generated data) from the original dataset?_"
   ]
  },
  {
   "cell_type": "markdown",
   "metadata": {},
   "source": [
    "**Answer:**"
   ]
  },
  {
   "cell_type": "code",
   "execution_count": 40,
   "metadata": {
    "collapsed": true
   },
   "outputs": [],
   "source": [
    "# These are all the hyperparameters that affect your output in a meaningful way\n",
    "\n",
    "# Layer setup\n",
    "\n",
    "# Session running\n",
    "EPOCHS = 10\n",
    "BATCH_SIZE = 128\n"
   ]
  },
  {
   "cell_type": "code",
   "execution_count": 41,
   "metadata": {
    "collapsed": false
   },
   "outputs": [
    {
     "name": "stdout",
     "output_type": "stream",
     "text": [
      "Done\n"
     ]
    }
   ],
   "source": [
    "### Define your architecture here.\n",
    "### Feel free to use as many code cells as needed.\n",
    "# import tensorflow as tf\n",
    "\n",
    "from tensorflow.contrib.layers import flatten\n",
    "\n",
    "def LeNet(x):    \n",
    "\n",
    "    # Hyperparameters: used for tf.truncated_normal, randomly defines variables for the weights and biases for each layer\n",
    "    mu = 0\n",
    "    sigma = 0.1\n",
    "    global seed\n",
    "\n",
    "    ###########################\n",
    "    # Layer 1: Convolutional. Input = 32x32x1. Output = 28x28x6.\n",
    "    #\n",
    "    # In this layer, we are convoling the image itself into tiny feature patches.\n",
    "    #   The features are no bigger than 5x5 patches of each image collapsed into each output pixel at depth 6.\n",
    "    #   The features are created randomly, and then learned into stronger features \n",
    "    #   as the CNN learns what's important.\n",
    "    # \n",
    "    # Notes:\n",
    "    # tf.truncated_normal(shape, mean=0.0, stddev=1.0, dtype=tf.float32, seed=42, name=None)\n",
    "    # \"Recall the shape has dimensions: (height, width, input_depth, output_depth).\"\n",
    "    # \"out_height = ceil(float(32 - 5 + 1) / float(1)) = 28\n",
    "    # \"out_width = ceil(float(32 - 5 + 1) / float(1)) = 28\n",
    "    # Shape: the shape of the convolution patch: 5x5, for all 3 color channels, and output a 1x6 output vector\n",
    "    # This shape is moved across the image and multiplied by all the pixels within that patch\n",
    "    L1_kernal = 5\n",
    "    L1_input_depth = 3 # Note: RGB\n",
    "    L1_output_depth = 6\n",
    "    L1_shape=(L1_kernal, L1_kernal, L1_input_depth, L1_output_depth)\n",
    "    # Stride: this is how the patch is moved alone the image\n",
    "    #   strides = [1, 2, 2, 1] # (batch, height, width, depth)\n",
    "    #   Parameters: how many images to skip, how many pixels in X, Y to skip, how many color chanels to skip\n",
    "    L1_stride = [1, 1, 1, 1]\n",
    "    # The padding affects how the filter handles the edge\n",
    "    # VALID means ??, SAFE means ??\n",
    "    L1_padding = 'VALID'\n",
    "\n",
    "    conv1_W = tf.Variable(tf.truncated_normal(L1_shape, mean = mu, stddev = sigma, seed=seed))\n",
    "    conv1_b = tf.Variable(tf.zeros(L1_output_depth))\n",
    "    conv1   = tf.nn.conv2d(x, conv1_W, L1_stride, padding=L1_padding) + conv1_b\n",
    "    \n",
    "    print(\"Conv 1 done 28x28x6\")\n",
    "    print(conv1.get_shape())\n",
    "\n",
    "    ###########################\n",
    "    # Activation: ReLU\n",
    "    #\n",
    "    conv1 = tf.nn.relu(conv1)\n",
    "\n",
    "    print(\"Activation 1 done\")\n",
    "    ###########################\n",
    "    # Maxooling: Input = 28x28x6. Output = 14x14x6.\n",
    "    #\n",
    "    # Pooling takes a look at a patch of *features* and picks the most important one.\n",
    "    #   This simplifies the layer as it moves through the CNN\n",
    "    #\n",
    "    # The double strides takes 28 down by half in both directions\n",
    "    # \"new_height = ceil(float(28 - 2 + 1) / float(2)) = ceil(13.5) = 14\n",
    "    # \"new_width = ceil(float(28 - 2 + 1) / float(2)) = ceil(13.5) = 14\n",
    "    # Maxpool: Pool this size patch of features and pick the largest one\n",
    "    # Note: ***DOES NOT OVERLAP*** The stride is the same as the patch so each pool is separate.\n",
    "    L1_maxpool_ksize = [1, 2, 2, 1] # [1, ??, ??, 1] -- size of the patch to pool. It doesn't really make sense to change the outer strides\n",
    "    L1_maxpool_stride = L1_maxpool_ksize # These match so you pool unique groups\n",
    "\n",
    "    conv1 = tf.nn.max_pool(conv1, ksize=L1_maxpool_ksize, strides=L1_maxpool_stride, padding=L1_padding)\n",
    "\n",
    "    print(\"Maxpool 1 done 14x14x16\")\n",
    "    print(conv1.get_shape())\n",
    "    ###########################\n",
    "    # Layer 2: Convolutional. Output = 10x10x16.\n",
    "    #\n",
    "    # In this layer, we are convoling groups of features into larger feature groups, I'll call \"metafeatures\".\n",
    "    #   This is similar to the dog's nose as a group of nostrils and curves.\n",
    "    #   In other words, this does the equivalent of taking small features, like nostrils \n",
    "    #   and curves, and outputs a nose.  (Except this time with street signs.)\n",
    "    #   The importance (weight) of each feature is randomly chosen, and evolved over time.\n",
    "    #\n",
    "    # Notes:\n",
    "    # conv2_W = tf.Variable(tf.truncated_normal(shape=(5, 5, 6, 16), mean = mu, stddev = sigma))\n",
    "    L2_kernal = 5\n",
    "    L2_output_depth = 16 # Note: the number of new filters\n",
    "    L2_shape=(L2_kernal, L2_kernal, L1_output_depth, L2_output_depth)\n",
    "    L2_stride = [1, 1, 1, 1]\n",
    "    L2_padding = 'VALID'\n",
    "\n",
    "    conv2_W = tf.Variable(tf.truncated_normal(shape=L2_shape, mean = mu, stddev = sigma, seed=seed))\n",
    "    conv2_b = tf.Variable(tf.zeros(L2_output_depth)) \n",
    "    conv2   = tf.nn.conv2d(conv1, conv2_W, strides=L2_stride, padding=L2_padding) + conv2_b\n",
    "    \n",
    "    print(\"Conv 2 done 10x10x16\")\n",
    "    print(conv2.get_shape())\n",
    "    print( L2_shape, L2_stride, L2_output_depth)\n",
    "    ###########################\n",
    "    # Activation\n",
    "    #\n",
    "    # SOLUTION: Activation.\n",
    "    conv2 = tf.nn.relu(conv2)\n",
    "\n",
    "    print(\"Activation 2 done\")\n",
    "    ###########################\n",
    "    # Maxooling\n",
    "    #\n",
    "    # Pooling takes a look at a patch of metafeatures and picks the most important one.\n",
    "    #   This simplifies the layer further\n",
    "    #\n",
    "    # SOLUTION: Pooling. Input = 10x10x16. Output = 5x5x16.\n",
    "    # The double strides take the 10 down to 5 in both directions.\n",
    "    L2_maxpool_ksize = [1, 2, 2, 1]\n",
    "    L2_maxpool_stride = L2_maxpool_ksize\n",
    "\n",
    "    conv2 = tf.nn.max_pool(conv2, ksize=L2_maxpool_ksize, strides=L2_maxpool_stride, padding='VALID')\n",
    "\n",
    "    print(\"Maxpool 2 done 5x5x16\")\n",
    "    print(conv2.get_shape())\n",
    "\n",
    "    ###########################\n",
    "    # Flatten\n",
    "    #\n",
    "    # The point to these next steps is to prepare to make a guess for what objects are in this image.\n",
    "    #\n",
    "    # To those ends, we have, so far, identified a bunch of small features (L1) and linked them\n",
    "    #   to larger features groups (L2), and deciding which among them was the most important at each layer.\n",
    "    #\n",
    "    # We now start to connect these features together to make a guess.\n",
    "    #\n",
    "    # They are fully connected, because we want these feature sets to have influence across the entire image.\n",
    "    #\n",
    "    # SOLUTION: Flatten. Input = 5x5x16. Output = 1x400 = flatten_size\n",
    "    # \"The flatten function flattens a Tensor into two dimensions: (batches, length). \n",
    "    # \"The batch size remains unaltered, so all of the other dimensions of the input \n",
    "    # \"Tensor are flattened into the second dimension of the output Tensor.\n",
    "\n",
    "    # \"In this model, the the output shape of Pooling Layer 2 should be 5x5x16 \n",
    "    # \"(ignoring batch size). Applying flatten will multiply the length of each \n",
    "    # \"dimension together, which equals 400.\n",
    "    # This size is the fall through of all the transforms downward:\n",
    "    # 32x32x3 -> 28x28x6 -> 14x14x6 -> 10x10x16 -> 5x5x16 -> 400\n",
    "    # Doing the math here, would not increase readability.\n",
    "    flatten_size = 400\n",
    "    fc0   = flatten(conv2)\n",
    "    \n",
    "    print(\"Flatten 2 done\")\n",
    "    print(fc0.get_shape())\n",
    "    ###########################\n",
    "    # Layer 3: Fully Connected. Input = 400. Output = 120.\n",
    "    #\n",
    "    # fc1_W = tf.Variable(tf.truncated_normal(shape=(flatten_size, 120), mean = mu, stddev = sigma))\n",
    "    L3_output_depth = 120\n",
    "\n",
    "    fc1_W = tf.Variable(tf.truncated_normal(shape=(flatten_size, L3_output_depth), mean = mu, stddev = sigma, seed=seed))\n",
    "    fc1_b = tf.Variable(tf.zeros(L3_output_depth))\n",
    "    fc1   = tf.matmul(fc0, fc1_W) + fc1_b\n",
    "    \n",
    "    print(\"Conv 3 done\")\n",
    "    # SOLUTION: Activation.\n",
    "    fc1    = tf.nn.relu(fc1)\n",
    "\n",
    "    print(\"Activation 3 done\")\n",
    "    ###########################\n",
    "    # Layer 4\n",
    "    # SOLUTION: Layer 4: Fully Connected. Input = 120. Output = 84.\n",
    "    # fc2_W  = tf.Variable(tf.truncated_normal(shape=(120, 84), mean = mu, stddev = sigma))\n",
    "    L4_output_depth = 84\n",
    "\n",
    "    # SOLUTION: Layer 4: Fully Connected. Input = 120. Output = 84.\n",
    "    fc2_W  = tf.Variable(tf.truncated_normal(shape=(L3_output_depth, L4_output_depth), mean = mu, stddev = sigma, seed=seed))\n",
    "    fc2_b  = tf.Variable(tf.zeros(L4_output_depth))\n",
    "    fc2    = tf.matmul(fc1, fc2_W) + fc2_b\n",
    "    \n",
    "    print(\"Conv 4 done\")\n",
    "    # SOLUTION: Activation.\n",
    "    fc2    = tf.nn.relu(fc2)\n",
    "\n",
    "    print(\"Activation 4 done\")\n",
    "    ###########################\n",
    "    # Layer 5: Fully Connected. Input = 84. Output = 43. Note: 43 is the number of classes of signs.\n",
    "    # fc3_W  = tf.Variable(tf.truncated_normal(shape=(84, n_classes), mean = mu, stddev = sigma))\n",
    "    #global n_classes\n",
    "    L5_output_depth = n_classes\n",
    "\n",
    "    fc3_W  = tf.Variable(tf.truncated_normal(shape=(L4_output_depth, L5_output_depth), mean = mu, stddev = sigma, seed=seed))\n",
    "    fc3_b  = tf.Variable(tf.zeros(L5_output_depth))\n",
    "    logits = tf.matmul(fc2, fc3_W) + fc3_b\n",
    "    \n",
    "    print(\"Conv 5 done\")\n",
    "    return logits\n",
    "\n",
    "print (\"Done\")"
   ]
  },
  {
   "cell_type": "markdown",
   "metadata": {},
   "source": [
    "### Question 3\n",
    "\n",
    "_What does your final architecture look like? (Type of model, layers, sizes, connectivity, etc.)  For reference on how to build a deep neural network using TensorFlow, see [Deep Neural Network in TensorFlow\n",
    "](https://classroom.udacity.com/nanodegrees/nd013/parts/fbf77062-5703-404e-b60c-95b78b2f3f9e/modules/6df7ae49-c61c-4bb2-a23e-6527e69209ec/lessons/b516a270-8600-4f93-a0a3-20dfeabe5da6/concepts/83a3a2a2-a9bd-4b7b-95b0-eb924ab14432) from the classroom._\n"
   ]
  },
  {
   "cell_type": "markdown",
   "metadata": {},
   "source": [
    "**Answer:**"
   ]
  },
  {
   "cell_type": "code",
   "execution_count": 42,
   "metadata": {
    "collapsed": false
   },
   "outputs": [
    {
     "name": "stdout",
     "output_type": "stream",
     "text": [
      "Conv 1 done 28x28x6\n",
      "(?, 28, 28, 6)\n",
      "Activation 1 done\n",
      "Maxpool 1 done 14x14x16\n",
      "(?, 14, 14, 6)\n",
      "Conv 2 done 10x10x16\n",
      "(?, 10, 10, 16)\n",
      "(5, 5, 6, 16) [1, 1, 1, 1] 16\n",
      "Activation 2 done\n",
      "Maxpool 2 done 5x5x16\n",
      "(?, 5, 5, 16)\n",
      "Flatten 2 done\n",
      "(?, 400)\n",
      "Conv 3 done\n",
      "Activation 3 done\n",
      "Conv 4 done\n",
      "Activation 4 done\n",
      "Conv 5 done\n",
      "Done setting up the model.\n"
     ]
    }
   ],
   "source": [
    "### Train your model here.\n",
    "### Feel free to use as many code cells as needed.\n",
    "#x = tf.placeholder(tf.float32, (None, 32, 32, 1))\n",
    "x = tf.placeholder(tf.float32, (None, 32, 32, 3))\n",
    "y = tf.placeholder(tf.int32, (None))\n",
    "#one_hot_y = tf.one_hot(y, 10)\n",
    "one_hot_y = tf.one_hot(y, 43)\n",
    "\n",
    "rate = 0.001\n",
    "\n",
    "logits = LeNet(x)\n",
    "\n",
    "cross_entropy = tf.nn.softmax_cross_entropy_with_logits(logits, one_hot_y)\n",
    "loss_operation = tf.reduce_mean(cross_entropy)\n",
    "optimizer = tf.train.AdamOptimizer(learning_rate = rate)\n",
    "training_operation = optimizer.minimize(loss_operation)\n",
    "\n",
    "print(\"Done setting up the model.\")"
   ]
  },
  {
   "cell_type": "code",
   "execution_count": 43,
   "metadata": {
    "collapsed": true
   },
   "outputs": [],
   "source": [
    "correct_prediction = tf.equal(tf.argmax(logits, 1), tf.argmax(one_hot_y, 1))\n",
    "accuracy_operation = tf.reduce_mean(tf.cast(correct_prediction, tf.float32))\n",
    "saver = tf.train.Saver()\n",
    "\n",
    "def evaluate(X_data, y_data):\n",
    "    num_examples = len(X_data)\n",
    "    total_accuracy = 0\n",
    "    sess = tf.get_default_session()\n",
    "    for offset in range(0, num_examples, BATCH_SIZE):\n",
    "        batch_x, batch_y = X_data[offset:offset+BATCH_SIZE], y_data[offset:offset+BATCH_SIZE]\n",
    "        accuracy = sess.run(accuracy_operation, feed_dict={x: batch_x, y: batch_y})\n",
    "        total_accuracy += (accuracy * len(batch_x))\n",
    "    return total_accuracy / num_examples"
   ]
  },
  {
   "cell_type": "code",
   "execution_count": 44,
   "metadata": {
    "collapsed": false,
    "scrolled": false
   },
   "outputs": [
    {
     "name": "stdout",
     "output_type": "stream",
     "text": [
      "Training...\n",
      "\n",
      "EPOCH 1 ...\n",
      "\n",
      "EPOCH 2 ...\n",
      "\n",
      "EPOCH 3 ...\n",
      "\n",
      "EPOCH 4 ...\n",
      "\n",
      "EPOCH 5 ...\n",
      "\n",
      "EPOCH 6 ...\n",
      "\n",
      "EPOCH 7 ...\n",
      "\n",
      "EPOCH 8 ...\n",
      "\n",
      "EPOCH 9 ...\n",
      "\n",
      "EPOCH 10 ...\n",
      "\n",
      "Model saved\n"
     ]
    }
   ],
   "source": [
    "with tf.Session() as sess:\n",
    "    sess.run(tf.global_variables_initializer())\n",
    "    num_examples = len(X_train)\n",
    "    \n",
    "    print(\"Training...\")\n",
    "    print()\n",
    "    for i in range(EPOCHS):\n",
    "        X_train, y_train = shuffle(X_train, y_train)\n",
    "        for offset in range(0, num_examples, BATCH_SIZE):\n",
    "            end = offset + BATCH_SIZE\n",
    "            batch_x, batch_y = X_train[offset:end], y_train[offset:end]\n",
    "            sess.run(training_operation, feed_dict={x: batch_x, y: batch_y})\n",
    "            \n",
    "        # validation_accuracy = evaluate(X_validation, y_validation)\n",
    "        print(\"EPOCH {} ...\".format(i+1))\n",
    "        #print(\"Validation Accuracy = {:.3f}\".format(validation_accuracy))\n",
    "        print()\n",
    "        \n",
    "    saver.save(sess, './Kiki_save')\n",
    "    print(\"Model saved\")"
   ]
  },
  {
   "cell_type": "markdown",
   "metadata": {},
   "source": [
    "### Question 4\n",
    "\n",
    "_How did you train your model? (Type of optimizer, batch size, epochs, hyperparameters, etc.)_\n"
   ]
  },
  {
   "cell_type": "markdown",
   "metadata": {},
   "source": [
    "**Answer:**"
   ]
  },
  {
   "cell_type": "markdown",
   "metadata": {},
   "source": [
    "### Question 5\n",
    "\n",
    "\n",
    "_What approach did you take in coming up with a solution to this problem? It may have been a process of trial and error, in which case, outline the steps you took to get to the final solution and why you chose those steps. Perhaps your solution involved an already well known implementation or architecture. In this case, discuss why you think this is suitable for the current problem._"
   ]
  },
  {
   "cell_type": "markdown",
   "metadata": {},
   "source": [
    "**Answer:**"
   ]
  },
  {
   "cell_type": "markdown",
   "metadata": {},
   "source": [
    "---\n",
    "\n",
    "## Step 3: Test a Model on New Images\n",
    "\n",
    "Take several pictures of traffic signs that you find on the web or around you (at least five), and run them through your classifier on your computer to produce example results. The classifier might not recognize some local signs but it could prove interesting nonetheless.\n",
    "\n",
    "You may find `signnames.csv` useful as it contains mappings from the class id (integer) to the actual sign name."
   ]
  },
  {
   "cell_type": "markdown",
   "metadata": {},
   "source": [
    "### Implementation\n",
    "\n",
    "Use the code cell (or multiple code cells, if necessary) to implement the first step of your project. Once you have completed your implementation and are satisfied with the results, be sure to thoroughly answer the questions that follow."
   ]
  },
  {
   "cell_type": "code",
   "execution_count": 45,
   "metadata": {
    "collapsed": true
   },
   "outputs": [],
   "source": [
    "### Load the images and plot them here.\n",
    "### Feel free to use as many code cells as needed.\n",
    "\n"
   ]
  },
  {
   "cell_type": "markdown",
   "metadata": {},
   "source": [
    "### Question 6\n",
    "\n",
    "_Choose five candidate images of traffic signs and provide them in the report. Are there any particular qualities of the image(s) that might make classification difficult? It could be helpful to plot the images in the notebook._\n",
    "\n"
   ]
  },
  {
   "cell_type": "markdown",
   "metadata": {},
   "source": [
    "**Answer:**"
   ]
  },
  {
   "cell_type": "code",
   "execution_count": 46,
   "metadata": {
    "collapsed": false
   },
   "outputs": [
    {
     "name": "stdout",
     "output_type": "stream",
     "text": [
      "Test Accuracy = 0.888\n",
      "Seed = 42 = 0.884\n"
     ]
    }
   ],
   "source": [
    "### Run the predictions here.\n",
    "### Feel free to use as many code cells as needed.\n",
    "with tf.Session() as sess:\n",
    "    saver.restore(sess, tf.train.latest_checkpoint('.'))\n",
    "\n",
    "    test_accuracy = evaluate(X_test, y_test)\n",
    "    print(\"Test Accuracy = {:.3f}\".format(test_accuracy))\n",
    "    print(\"Seed = {} = {:.3f}\".format(seed, 0.884))"
   ]
  },
  {
   "cell_type": "markdown",
   "metadata": {},
   "source": [
    "### Question 7\n",
    "\n",
    "_Is your model able to perform equally well on captured pictures when compared to testing on the dataset? The simplest way to do this check the accuracy of the predictions. For example, if the model predicted 1 out of 5 signs correctly, it's 20% accurate._\n",
    "\n",
    "_**NOTE:** You could check the accuracy manually by using `signnames.csv` (same directory). This file has a mapping from the class id (0-42) to the corresponding sign name. So, you could take the class id the model outputs, lookup the name in `signnames.csv` and see if it matches the sign from the image._\n"
   ]
  },
  {
   "cell_type": "markdown",
   "metadata": {},
   "source": [
    "**Answer:**"
   ]
  },
  {
   "cell_type": "code",
   "execution_count": null,
   "metadata": {
    "collapsed": true
   },
   "outputs": [],
   "source": [
    "### Visualize the softmax probabilities here.\n",
    "### Feel free to use as many code cells as needed."
   ]
  },
  {
   "cell_type": "markdown",
   "metadata": {},
   "source": [
    "### Question 8\n",
    "\n",
    "*Use the model's softmax probabilities to visualize the **certainty** of its predictions, [`tf.nn.top_k`](https://www.tensorflow.org/versions/r0.12/api_docs/python/nn.html#top_k) could prove helpful here. Which predictions is the model certain of? Uncertain? If the model was incorrect in its initial prediction, does the correct prediction appear in the top k? (k should be 5 at most)*\n",
    "\n",
    "`tf.nn.top_k` will return the values and indices (class ids) of the top k predictions. So if k=3, for each sign, it'll return the 3 largest probabilities (out of a possible 43) and the correspoding class ids.\n",
    "\n",
    "Take this numpy array as an example:\n",
    "\n",
    "```\n",
    "# (5, 6) array\n",
    "a = np.array([[ 0.24879643,  0.07032244,  0.12641572,  0.34763842,  0.07893497,\n",
    "         0.12789202],\n",
    "       [ 0.28086119,  0.27569815,  0.08594638,  0.0178669 ,  0.18063401,\n",
    "         0.15899337],\n",
    "       [ 0.26076848,  0.23664738,  0.08020603,  0.07001922,  0.1134371 ,\n",
    "         0.23892179],\n",
    "       [ 0.11943333,  0.29198961,  0.02605103,  0.26234032,  0.1351348 ,\n",
    "         0.16505091],\n",
    "       [ 0.09561176,  0.34396535,  0.0643941 ,  0.16240774,  0.24206137,\n",
    "         0.09155967]])\n",
    "```\n",
    "\n",
    "Running it through `sess.run(tf.nn.top_k(tf.constant(a), k=3))` produces:\n",
    "\n",
    "```\n",
    "TopKV2(values=array([[ 0.34763842,  0.24879643,  0.12789202],\n",
    "       [ 0.28086119,  0.27569815,  0.18063401],\n",
    "       [ 0.26076848,  0.23892179,  0.23664738],\n",
    "       [ 0.29198961,  0.26234032,  0.16505091],\n",
    "       [ 0.34396535,  0.24206137,  0.16240774]]), indices=array([[3, 0, 5],\n",
    "       [0, 1, 4],\n",
    "       [0, 5, 1],\n",
    "       [1, 3, 5],\n",
    "       [1, 4, 3]], dtype=int32))\n",
    "```\n",
    "\n",
    "Looking just at the first row we get `[ 0.34763842,  0.24879643,  0.12789202]`, you can confirm these are the 3 largest probabilities in `a`. You'll also notice `[3, 0, 5]` are the corresponding indices."
   ]
  },
  {
   "cell_type": "markdown",
   "metadata": {},
   "source": [
    "**Answer:**"
   ]
  },
  {
   "cell_type": "markdown",
   "metadata": {},
   "source": [
    "> **Note**: Once you have completed all of the code implementations and successfully answered each question above, you may finalize your work by exporting the iPython Notebook as an HTML document. You can do this by using the menu above and navigating to  \\n\",\n",
    "    \"**File -> Download as -> HTML (.html)**. Include the finished document along with this notebook as your submission."
   ]
  },
  {
   "cell_type": "code",
   "execution_count": null,
   "metadata": {
    "collapsed": true
   },
   "outputs": [],
   "source": []
  }
 ],
 "metadata": {
  "anaconda-cloud": {},
  "kernelspec": {
   "display_name": "Python [default]",
   "language": "python",
   "name": "python3"
  },
  "language_info": {
   "codemirror_mode": {
    "name": "ipython",
    "version": 3
   },
   "file_extension": ".py",
   "mimetype": "text/x-python",
   "name": "python",
   "nbconvert_exporter": "python",
   "pygments_lexer": "ipython3",
   "version": "3.5.2"
  }
 },
 "nbformat": 4,
 "nbformat_minor": 1
}
